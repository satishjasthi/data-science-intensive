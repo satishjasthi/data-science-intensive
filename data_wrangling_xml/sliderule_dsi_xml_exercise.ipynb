{
 "cells": [
  {
   "cell_type": "markdown",
   "metadata": {},
   "source": [
    "# XML example and exercise\n",
    "****\n",
    "+ study examples of accessing nodes in XML tree structure  \n",
    "+ work on exercise to be completed and submitted\n",
    "****\n",
    "+ reference: https://docs.python.org/2.7/library/xml.etree.elementtree.html\n",
    "+ data source: http://www.dbis.informatik.uni-goettingen.de/Mondial\n",
    "****"
   ]
  },
  {
   "cell_type": "code",
   "execution_count": 2,
   "metadata": {
    "collapsed": true
   },
   "outputs": [],
   "source": [
    "from xml.etree import ElementTree as ET"
   ]
  },
  {
   "cell_type": "markdown",
   "metadata": {},
   "source": [
    "## XML example\n",
    "\n",
    "+ for details about tree traversal and iterators, see https://docs.python.org/2.7/library/xml.etree.elementtree.html"
   ]
  },
  {
   "cell_type": "code",
   "execution_count": 3,
   "metadata": {
    "collapsed": true
   },
   "outputs": [],
   "source": [
    "document_tree = ET.parse( './data/mondial_database_less.xml' )"
   ]
  },
  {
   "cell_type": "code",
   "execution_count": 4,
   "metadata": {
    "collapsed": false
   },
   "outputs": [
    {
     "name": "stdout",
     "output_type": "stream",
     "text": [
      "Albania\n",
      "Greece\n",
      "Macedonia\n",
      "Serbia\n",
      "Montenegro\n",
      "Kosovo\n",
      "Andorra\n"
     ]
    }
   ],
   "source": [
    "# print names of all countries\n",
    "for child in document_tree.getroot():\n",
    "    print child.find('name').text"
   ]
  },
  {
   "cell_type": "code",
   "execution_count": 5,
   "metadata": {
    "collapsed": false
   },
   "outputs": [
    {
     "name": "stdout",
     "output_type": "stream",
     "text": [
      "* Albania: Tirana, Shkodër, Durrës, Vlorë, Elbasan, Korçë\n",
      "* Greece: Komotini, Kavala, Athina, Peiraias, Peristeri, Acharnes, Patra, Kozani, Kerkyra, Ioannina, Thessaloniki, Iraklio, Chania, Ermoupoli, Rhodes, Tripoli, Lamia, Chalkida, Larissa, Volos, Mytilini, Karyes\n",
      "* Macedonia: Skopje, Kumanovo\n",
      "* Serbia: Beograd, Novi Sad, Niš\n",
      "* Montenegro: Podgorica\n",
      "* Kosovo: Prishtine\n",
      "* Andorra: Andorra la Vella\n"
     ]
    }
   ],
   "source": [
    "# print names of all countries and their cities\n",
    "for element in document_tree.iterfind('country'):\n",
    "    print '* ' + element.find('name').text + ':',\n",
    "    capitals_string = ''\n",
    "    for subelement in element.getiterator('city'):\n",
    "        capitals_string += subelement.find('name').text + ', '\n",
    "    print capitals_string[:-2]"
   ]
  },
  {
   "cell_type": "markdown",
   "metadata": {},
   "source": [
    "****\n",
    "## XML exercise\n",
    "\n",
    "Using data in 'data/mondial_database.xml', the examples above, and refering to https://docs.python.org/2.7/library/xml.etree.elementtree.html, find\n",
    "\n",
    "1. 10 countries with the lowest infant mortality rates\n",
    "2. 10 cities with the largest population\n",
    "3. 10 ethnic groups with the largest overall populations (sum of best/latest estimates over all countries)\n",
    "\n",
    "4. name and country of a) longest river, b) largest lake and c) airport at highest elevation"
   ]
  },
  {
   "cell_type": "markdown",
   "metadata": {},
   "source": [
    "*************\n",
    "\n",
    "## KLA code from here on in ##\n",
    "\n",
    "*************"
   ]
  },
  {
   "cell_type": "code",
   "execution_count": 10,
   "metadata": {
    "collapsed": false
   },
   "outputs": [
    {
     "data": {
      "text/plain": [
       "<Element 'mondial' at 0x108ea63d0>"
      ]
     },
     "execution_count": 10,
     "metadata": {},
     "output_type": "execute_result"
    }
   ],
   "source": [
    "import pandas as pd\n",
    "document = ET.parse( './data/mondial_database.xml' )\n",
    "root = document.getroot()\n",
    "root\n",
    "    "
   ]
  },
  {
   "cell_type": "code",
   "execution_count": null,
   "metadata": {
    "collapsed": false
   },
   "outputs": [],
   "source": [
    "for country in root.findall('country'):\n",
    "    i = 0\n",
    "    while i < 10:\n",
    "        for node in country.getchildren():\n",
    "            print node.tag, node.attrib\n",
    "            for newnode in node.getchildren():\n",
    "                print \"     \", node.tag, node.attrib\n",
    "        print \"\\n\", \"\\n\"\n",
    "    i += 1\n",
    "\n",
    "testlist = []\n",
    "\n",
    "for country in root.findall('country'):\n",
    "    try:\n",
    "        testlist.append(country.find('infant_mortality').text)\n",
    "    except:\n",
    "        testlist.append(None)\n",
    "    \n",
    "print len(testlist)"
   ]
  },
  {
   "cell_type": "markdown",
   "metadata": {},
   "source": [
    "-------\n",
    "### it took a little while to figure that one out ###\n",
    "\n",
    "\n",
    "While remembering the right syntax to go down the levels of an XML tree was slow on its own (is no doubt going to come with practice), I didn't realize how angry `for` would be when some `country` elements had no child element `infant_mortality` (some countries don't have this data listed) and returned `None`.  `try`/`except` eventually solved the problem and gave me a list of the correct length, which let me take that approach into actually building the dictionary below.\n",
    "\n",
    "------"
   ]
  },
  {
   "cell_type": "code",
   "execution_count": 62,
   "metadata": {
    "collapsed": false
   },
   "outputs": [
    {
     "name": "stdout",
     "output_type": "stream",
     "text": [
      "            country  infmr\n",
      "37           Monaco   1.81\n",
      "225           Japan   2.13\n",
      "77           Norway   2.48\n",
      "70          Bermuda   2.48\n",
      "82        Singapore   2.53\n",
      "115          Sweden   2.60\n",
      "61   Czech Republic   2.63\n",
      "154       Hong Kong   2.73\n",
      "57            Macao   3.13\n",
      "203         Iceland   3.15\n"
     ]
    }
   ],
   "source": [
    "countryname = []\n",
    "infmr = []\n",
    "\n",
    "for country in root.findall('country'):\n",
    "    countryname.append(country.find('name').text)\n",
    "    try:\n",
    "        infmr.append(float(country.find('infant_mortality').text))\n",
    "    except:\n",
    "        infmr.append(None)\n",
    "\n",
    "countryinfmr = dict(zip(countryname, infmr))\n",
    "\n",
    "df = pd.DataFrame(countryinfmr.items(), columns = ['country', 'infmr'])\n",
    "\n",
    "df = df.sort_values('infmr')\n",
    "\n",
    "print df.head(10)"
   ]
  },
  {
   "cell_type": "markdown",
   "metadata": {},
   "source": [
    "-------\n",
    "\n",
    "*Voila, the ten lowest infant mortality rates recorded in `mondial_database.xml`. I'm kind of surprised by the Czech Republic.*\n",
    "\n",
    "-------\n",
    "\n",
    "It seems like the next exercise should be roughly the same -- just a couple layers deeper in iterating through children -- but looking at the raw XML shows that\n",
    "\n",
    "1. many cities have multiple population values from different years listed,\n",
    "2. not all cities have the same years listed, and\n",
    "3. there are a lot of missing values. (naturally.)\n",
    "\n",
    "In order to get useful information, then, it'll be necessary to make sure that the "
   ]
  },
  {
   "cell_type": "code",
   "execution_count": null,
   "metadata": {
    "collapsed": true
   },
   "outputs": [],
   "source": []
  },
  {
   "cell_type": "code",
   "execution_count": null,
   "metadata": {
    "collapsed": true
   },
   "outputs": [],
   "source": []
  }
 ],
 "metadata": {
  "kernelspec": {
   "display_name": "Python 2",
   "language": "python",
   "name": "python2"
  },
  "language_info": {
   "codemirror_mode": {
    "name": "ipython",
    "version": 2
   },
   "file_extension": ".py",
   "mimetype": "text/x-python",
   "name": "python",
   "nbconvert_exporter": "python",
   "pygments_lexer": "ipython2",
   "version": "2.7.10"
  }
 },
 "nbformat": 4,
 "nbformat_minor": 0
}
